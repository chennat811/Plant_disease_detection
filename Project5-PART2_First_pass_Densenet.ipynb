{
 "cells": [
  {
   "cell_type": "code",
   "execution_count": 4,
   "metadata": {},
   "outputs": [],
   "source": [
    "import keras\n",
    "import pandas as pd\n",
    "import numpy as np\n",
    "import glob\n",
    "from keras.models import Sequential\n",
    "from keras.preprocessing.image import ImageDataGenerator\n",
    "from keras.layers import Dense, GlobalAveragePooling2D\n",
    "from keras import models\n",
    "from keras import layers\n",
    "from keras.preprocessing import image\n",
    "from keras.models import Model\n",
    "from keras.applications import DenseNet169, ResNet50, VGG16, InceptionV3\n",
    "from keras.optimizers import Adam\n",
    "import matplotlib.pyplot as plt\n",
    "import utilities"
   ]
  },
  {
   "cell_type": "markdown",
   "metadata": {},
   "source": [
    "### Create path to directory"
   ]
  },
  {
   "cell_type": "code",
   "execution_count": 10,
   "metadata": {},
   "outputs": [
    {
     "name": "stdout",
     "output_type": "stream",
     "text": [
      "39 Classes\n",
      "49179 Train images\n",
      "6139 Validation images\n",
      "6168 Test images\n"
     ]
    }
   ],
   "source": [
    "train_dir = 'data_withaug/output/train'\n",
    "val_dir = 'data_withaug/output/val'\n",
    "test_dir = 'data_withaug/output/test' \n",
    "\n",
    "train_samples =utilities.get_files(train_dir)\n",
    "num_classes=len(glob.glob(train_dir+\"/*\"))\n",
    "val_samples = utilities.get_files(val_dir)\n",
    "test_samples=utilities.get_files(test_dir) \n",
    "print(num_classes,\"Classes\")\n",
    "print(train_samples,\"Train images\")\n",
    "print(val_samples, \"Validation images\")\n",
    "print(test_samples,\"Test images\")"
   ]
  },
  {
   "cell_type": "markdown",
   "metadata": {},
   "source": [
    "## Use the ImageDataGenerator from Keras\n",
    "#### This package in Keras can be used to generate augmented datasets"
   ]
  },
  {
   "cell_type": "code",
   "execution_count": 19,
   "metadata": {},
   "outputs": [
    {
     "name": "stdout",
     "output_type": "stream",
     "text": [
      "Found 49179 images belonging to 39 classes.\n",
      "Found 6139 images belonging to 39 classes.\n"
     ]
    }
   ],
   "source": [
    "# Rescales all images by 1/255\n",
    "train_datagen = ImageDataGenerator(rescale=1./255,\n",
    "                                   rotation_range = 45,\n",
    "                                   shear_range = 0.1,\n",
    "                                   zoom_range = 0.1,\n",
    "                                   brightness_range= [0.9, 1.1],\n",
    "                                   horizontal_flip = True)\n",
    "validation_datagen = ImageDataGenerator(rescale=1./255)\n",
    "\n",
    "train_generator = train_datagen.flow_from_directory(\n",
    "    train_dir, # Target directory\n",
    "    target_size=(150, 150), #Resizes all images to 150 × 150\n",
    "    batch_size=32,\n",
    "    class_mode='categorical') \n",
    "\n",
    "\n",
    "validation_generator = validation_datagen.flow_from_directory(\n",
    "    val_dir,\n",
    "    target_size=(150, 150),\n",
    "    batch_size=32,\n",
    "    class_mode='categorical')\n",
    "\n"
   ]
  },
  {
   "cell_type": "markdown",
   "metadata": {},
   "source": [
    "### Set up architecture for the transfer models.\n",
    "#### Freeze the transfer model and train the subsequent layers.\n",
    "Subsequent layers are used to classify the image."
   ]
  },
  {
   "cell_type": "code",
   "execution_count": 29,
   "metadata": {},
   "outputs": [
    {
     "name": "stdout",
     "output_type": "stream",
     "text": [
      "Downloading data from https://storage.googleapis.com/tensorflow/keras-applications/densenet/densenet169_weights_tf_dim_ordering_tf_kernels_notop.h5\n",
      "51879936/51877672 [==============================] - 3s 0us/step\n",
      "Model: \"sequential_3\"\n",
      "_________________________________________________________________\n",
      "Layer (type)                 Output Shape              Param #   \n",
      "=================================================================\n",
      "densenet169 (Functional)     (None, 4, 4, 1664)        12642880  \n",
      "_________________________________________________________________\n",
      "global_average_pooling2d_2 ( (None, 1664)              0         \n",
      "_________________________________________________________________\n",
      "dense_4 (Dense)              (None, 64)                106560    \n",
      "_________________________________________________________________\n",
      "dense_5 (Dense)              (None, 39)                2535      \n",
      "=================================================================\n",
      "Total params: 12,751,975\n",
      "Trainable params: 109,095\n",
      "Non-trainable params: 12,642,880\n",
      "_________________________________________________________________\n"
     ]
    }
   ],
   "source": [
    "#Replace with any transfer model\n",
    "base_model = DenseNet169(weights=\"imagenet\", include_top=False,input_shape=(150,150,3))\n",
    "\n",
    "#Freeze the transfer model in the first pass\n",
    "for layer in base_model.layers:\n",
    "    layer.trainable = False\n",
    "    \n",
    "#Create architecture for classifying layers.\n",
    "model = models.Sequential()\n",
    "model.add(base_model)\n",
    "model.add(layers.GlobalAveragePooling2D())\n",
    "model.add(layers.Dense(64, activation='relu'))\n",
    "model.add(layers.Dense(39, activation='softmax'))\n",
    "\n",
    "model.compile(optimizer='adam',loss='categorical_crossentropy',metrics=['accuracy'])\n",
    "model.summary()"
   ]
  },
  {
   "cell_type": "code",
   "execution_count": 30,
   "metadata": {},
   "outputs": [],
   "source": [
    "batch_size = 32 #the number of training examples used in the estimate of the error\n",
    "epochs = 10 #number of passes the algorithm will make through the training dataset"
   ]
  },
  {
   "cell_type": "code",
   "execution_count": 31,
   "metadata": {},
   "outputs": [
    {
     "name": "stdout",
     "output_type": "stream",
     "text": [
      "Epoch 1/10\n",
      "1536/1536 [==============================] - 4358s 3s/step - loss: 0.6792 - accuracy: 0.8109 - val_loss: 0.3564 - val_accuracy: 0.8811\n",
      "Epoch 2/10\n",
      "1536/1536 [==============================] - 4952s 3s/step - loss: 0.2813 - accuracy: 0.9107 - val_loss: 0.2864 - val_accuracy: 0.9107\n",
      "Epoch 3/10\n",
      "1536/1536 [==============================] - 4939s 3s/step - loss: 0.2313 - accuracy: 0.9246 - val_loss: 0.2521 - val_accuracy: 0.9205\n",
      "Epoch 4/10\n",
      "1536/1536 [==============================] - 3883s 3s/step - loss: 0.2039 - accuracy: 0.9332 - val_loss: 0.2152 - val_accuracy: 0.9308\n",
      "Epoch 5/10\n",
      "1536/1536 [==============================] - 3181s 2s/step - loss: 0.1848 - accuracy: 0.9385 - val_loss: 0.2584 - val_accuracy: 0.9184\n",
      "Epoch 6/10\n",
      "1536/1536 [==============================] - 3182s 2s/step - loss: 0.1786 - accuracy: 0.9400 - val_loss: 0.2487 - val_accuracy: 0.9231\n",
      "Epoch 7/10\n",
      "1536/1536 [==============================] - 3187s 2s/step - loss: 0.1679 - accuracy: 0.9436 - val_loss: 0.2642 - val_accuracy: 0.9194\n",
      "Epoch 8/10\n",
      "1536/1536 [==============================] - 3221s 2s/step - loss: 0.1614 - accuracy: 0.9467 - val_loss: 0.2054 - val_accuracy: 0.9371\n",
      "Epoch 9/10\n",
      "1536/1536 [==============================] - 3021s 2s/step - loss: 0.1552 - accuracy: 0.9471 - val_loss: 0.1917 - val_accuracy: 0.9414\n",
      "Epoch 10/10\n",
      "1536/1536 [==============================] - 2725s 2s/step - loss: 0.1527 - accuracy: 0.9481 - val_loss: 0.2106 - val_accuracy: 0.9350\n"
     ]
    }
   ],
   "source": [
    "history = model.fit_generator(\n",
    "    train_generator,\n",
    "    steps_per_epoch= train_samples//batch_size,\n",
    "    epochs=epochs,\n",
    "    validation_data=validation_generator)"
   ]
  },
  {
   "cell_type": "markdown",
   "metadata": {},
   "source": [
    "### First pass: the model is at 94.81% training accuracy and 93.5% validation accuracy.\n",
    "\n",
    "### Look at train and validation accuracy and loss"
   ]
  },
  {
   "cell_type": "code",
   "execution_count": 33,
   "metadata": {},
   "outputs": [
    {
     "data": {
      "image/png": "[encoded data removed]",
      "text/plain": [
       "<Figure size 432x288 with 1 Axes>"
      ]
     },
     "metadata": {
      "needs_background": "light"
     },
     "output_type": "display_data"
    },
    {
     "data": {
      "image/png": "[encoded data removed]",
      "text/plain": [
       "<Figure size 432x288 with 1 Axes>"
      ]
     },
     "metadata": {
      "needs_background": "light"
     },
     "output_type": "display_data"
    }
   ],
   "source": [
    "acc = history.history['accuracy']\n",
    "val_acc = history.history['val_accuracy']\n",
    "loss = history.history['loss']\n",
    "val_loss = history.history['val_loss']\n",
    "epochs = range(1, len(acc) + 1)\n",
    "#Train and validation accuracy\n",
    "plt.plot(epochs, acc, 'b', label='Training accurarcy')\n",
    "plt.plot(epochs, val_acc, 'r', label='Validation accurarcy')\n",
    "plt.title('Training and Validation accurarcy')\n",
    "plt.legend()\n",
    "\n",
    "plt.figure()\n",
    "#Train and validation loss\n",
    "plt.plot(epochs, loss, 'b', label='Training loss')\n",
    "plt.plot(epochs, val_loss, 'r', label='Validation loss')\n",
    "plt.title('Training and Validation loss')\n",
    "plt.legend()\n",
    "plt.show()"
   ]
  },
  {
   "cell_type": "code",
   "execution_count": 34,
   "metadata": {},
   "outputs": [],
   "source": [
    "#save model\n",
    "model.save('./DenseNet169.h5')"
   ]
  },
  {
   "cell_type": "code",
   "execution_count": 35,
   "metadata": {},
   "outputs": [
    {
     "name": "stdout",
     "output_type": "stream",
     "text": [
      "Saved model to disk\n"
     ]
    }
   ],
   "source": [
    "#save json file and weights in h5 format\n",
    "model_json = model.to_json()\n",
    "with open(\"DenseNet169.json\", \"w\") as json_file:\n",
    "    json_file.write(model_json)\n",
    "# serialize weights to HDF5\n",
    "model.save_weights(\"DenseNet169_weights.h5\")\n",
    "print(\"Saved model to disk\")"
   ]
  },
  {
   "cell_type": "code",
   "execution_count": 81,
   "metadata": {},
   "outputs": [],
   "source": [
    "#to open model\n",
    "# json_file = open('baseline.json', 'r')\n",
    "# loaded_model_json = json_file.read()\n",
    "# json_file.close()\n",
    "# loaded_model = model_from_json(loaded_model_json)\n",
    "# # load weights into new model\n",
    "# loaded_model.load_weights(\"baseline.h5\")\n",
    "# print(\"Loaded model from disk\")"
   ]
  },
  {
   "cell_type": "markdown",
   "metadata": {},
   "source": [
    "## Look at performance on test set"
   ]
  },
  {
   "cell_type": "code",
   "execution_count": 36,
   "metadata": {},
   "outputs": [
    {
     "name": "stdout",
     "output_type": "stream",
     "text": [
      "Found 6168 images belonging to 39 classes.\n"
     ]
    }
   ],
   "source": [
    "# set up the test set using keras's image data generator\n",
    "test_datagen = ImageDataGenerator(rescale=1./255)\n",
    "\n",
    "test_generator = test_datagen.flow_from_directory(\n",
    "    test_dir, # Target directory\n",
    "    target_size=(150, 150), #Resizes all images to 150 × 150\n",
    "    batch_size=32,\n",
    "    shuffle = False,\n",
    "    class_mode='categorical') #Because you use categorical_crossentropy loss, you need categorical labels"
   ]
  },
  {
   "cell_type": "code",
   "execution_count": 37,
   "metadata": {},
   "outputs": [
    {
     "name": "stdout",
     "output_type": "stream",
     "text": [
      "WARNING:tensorflow:From <ipython-input-37-a3a046d9f3c1>:2: Model.evaluate_generator (from tensorflow.python.keras.engine.training) is deprecated and will be removed in a future version.\n",
      "Instructions for updating:\n",
      "Please use Model.evaluate, which supports generators.\n",
      "accuracy: 94.26%\n"
     ]
    }
   ],
   "source": [
    "#compile the model\n",
    "#use evaluate_generator to get the evaluation metrics, specifically accuracy\n",
    "model.compile(loss='categorical_crossentropy', optimizer='rmsprop', metrics=['accuracy'])\n",
    "score = model.evaluate_generator(test_generator, verbose=0)\n",
    "print(\"%s: %.2f%%\" % (model.metrics_names[1], score[1]*100))"
   ]
  },
  {
   "cell_type": "markdown",
   "metadata": {},
   "source": [
    "#### The test set has an accuracy score of 94.26%\n",
    "\n",
    "#### Double check results by using the model to make predictions.\n",
    "Each image is taken in by the model and then probabilities of each class are given to each image. The argmax function returns the class that image has the highest probability of belonging in."
   ]
  },
  {
   "cell_type": "code",
   "execution_count": 120,
   "metadata": {},
   "outputs": [],
   "source": [
    "test_generator.reset()"
   ]
  },
  {
   "cell_type": "code",
   "execution_count": 121,
   "metadata": {},
   "outputs": [],
   "source": [
    "probabilities = model.predict_generator(test_generator)\n",
    "predicted_class_indices=np.argmax(probabilities,axis=1)\n",
    "\n",
    "#class_indicies returns the class names\n",
    "#each true label and predicted label are zipped together\n",
    "labels = (train_generator.class_indices)\n",
    "labels = dict((v,k) for k,v in labels.items())\n",
    "predictions = [labels[k] for k in predicted_class_indices]\n",
    "\n",
    "#create a dataframe with filenames and predictions\n",
    "filenames=test_generator.filenames\n",
    "results=pd.DataFrame({\"Filename\":filenames,\n",
    "                      \"Predictions\":predictions})\n",
    "#results are returned in csv format\n",
    "results.to_csv(\"results.csv\",index=False)"
   ]
  },
  {
   "cell_type": "code",
   "execution_count": 127,
   "metadata": {},
   "outputs": [
    {
     "name": "stdout",
     "output_type": "stream",
     "text": [
      "{'Apple___Apple_scab': 0, 'Apple___Black_rot': 1, 'Apple___Cedar_apple_rust': 2, 'Apple___healthy': 3, 'Background_without_leaves': 4, 'Blueberry___healthy': 5, 'Cherry___Powdery_mildew': 6, 'Cherry___healthy': 7, 'Corn___Cercospora_leaf_spot Gray_leaf_spot': 8, 'Corn___Common_rust': 9, 'Corn___Northern_Leaf_Blight': 10, 'Corn___healthy': 11, 'Grape___Black_rot': 12, 'Grape___Esca_(Black_Measles)': 13, 'Grape___Leaf_blight_(Isariopsis_Leaf_Spot)': 14, 'Grape___healthy': 15, 'Orange___Haunglongbing_(Citrus_greening)': 16, 'Peach___Bacterial_spot': 17, 'Peach___healthy': 18, 'Pepper,_bell___Bacterial_spot': 19, 'Pepper,_bell___healthy': 20, 'Potato___Early_blight': 21, 'Potato___Late_blight': 22, 'Potato___healthy': 23, 'Raspberry___healthy': 24, 'Soybean___healthy': 25, 'Squash___Powdery_mildew': 26, 'Strawberry___Leaf_scorch': 27, 'Strawberry___healthy': 28, 'Tomato___Bacterial_spot': 29, 'Tomato___Early_blight': 30, 'Tomato___Late_blight': 31, 'Tomato___Leaf_Mold': 32, 'Tomato___Septoria_leaf_spot': 33, 'Tomato___Spider_mites Two-spotted_spider_mite': 34, 'Tomato___Target_Spot': 35, 'Tomato___Tomato_Yellow_Leaf_Curl_Virus': 36, 'Tomato___Tomato_mosaic_virus': 37, 'Tomato___healthy': 38}\n"
     ]
    }
   ],
   "source": [
    "print(train_generator.class_indices)"
   ]
  },
  {
   "cell_type": "code",
   "execution_count": 129,
   "metadata": {},
   "outputs": [
    {
     "name": "stdout",
     "output_type": "stream",
     "text": [
      "[8]\n"
     ]
    }
   ],
   "source": [
    "#test model on one image\n",
    "#need to convert the image to an array and into the right dimensions\n",
    "img = image.load_img('test1.JPG', target_size = (150,150))\n",
    "y = image.img_to_array(img)\n",
    "y = np.expand_dims(y, axis = 0)\n",
    "classes = model.predict_classes(y, batch_size = 10)\n",
    "print(classes)"
   ]
  },
  {
   "cell_type": "code",
   "execution_count": 15,
   "metadata": {},
   "outputs": [
    {
     "name": "stdout",
     "output_type": "stream",
     "text": [
      "0\n",
      "(None, 150, 150, 3)\n",
      "(None, 4, 4, 1664)\n",
      "1\n",
      "(None, 4, 4, 1664)\n",
      "(None, 1664)\n",
      "2\n",
      "(None, 1664)\n",
      "(None, 64)\n",
      "3\n",
      "(None, 64)\n",
      "(None, 39)\n"
     ]
    }
   ],
   "source": [
    "for i, layer in enumerate(dense_loaded_model.layers):\n",
    "    print(i)\n",
    "    print(layer.input_shape)\n",
    "    print(layer.output_shape)"
   ]
  },
  {
   "cell_type": "code",
   "execution_count": null,
   "metadata": {},
   "outputs": [],
   "source": []
  }
 ],
 "metadata": {
  "kernelspec": {
   "display_name": "Python 3",
   "language": "python",
   "name": "python3"
  },
  "language_info": {
   "codemirror_mode": {
    "name": "ipython",
    "version": 3
   },
   "file_extension": ".py",
   "mimetype": "text/x-python",
   "name": "python",
   "nbconvert_exporter": "python",
   "pygments_lexer": "ipython3",
   "version": "3.8.3"
  }
 },
 "nbformat": 4,
 "nbformat_minor": 4
}
