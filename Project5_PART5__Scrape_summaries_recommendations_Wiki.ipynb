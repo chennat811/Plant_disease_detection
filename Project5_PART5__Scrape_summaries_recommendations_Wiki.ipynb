{
 "cells": [
  {
   "cell_type": "code",
   "execution_count": 98,
   "metadata": {},
   "outputs": [],
   "source": [
    "import wikipedia\n",
    "import numpy as np\n",
    "import pandas as pd"
   ]
  },
  {
   "cell_type": "markdown",
   "metadata": {},
   "source": [
    "# Scrape summaries and recommendations from Wikipedia"
   ]
  },
  {
   "cell_type": "code",
   "execution_count": 144,
   "metadata": {},
   "outputs": [],
   "source": [
    "#dictionary of labels(original):[label(cleaned), recommendations]\n",
    "section = {'Apple___Apple_scab':['Apple scab', 'Cultural controls'],\n",
    "         'Apple___Black_rot':['Botryosphaeria obtusa','Treatment and control'],\n",
    "         'Apple___Cedar_apple_rust':['Gymnosporangium juniperi-virginianae', 'Control'],\n",
    "         'Cherry___Powdery_mildew':['Powdery mildew', 'Conventional chemical control'],\n",
    "         'Corn___Cercospora_leaf_spot Gray_leaf_spot':['Corn grey leaf spot', 'Management'],\n",
    "         'Corn___Common_rust':['Puccinia sorghi','Management'],\n",
    "         'Corn___Northern_Leaf_Blight':['Northern corn leaf blight','Management'],\n",
    "         'Grape___Black_rot':['Black rot (grape disease)','Control and management'],\n",
    "         'Grape___Esca_(Black_Measles)':['Esca (grape disease)', ],\n",
    "         'Grape___Leaf_blight_(Isariopsis_Leaf_Spot)':['Leaf spot', 'Control and management'],\n",
    "         'Orange___Haunglongbing_(Citrus_greening)':['Citrus greening disease','Control'],\n",
    "         'Peach___Bacterial_spot':['Bacterial leaf scorch', 'Treatment'],\n",
    "         'Pepper,_bell___Bacterial_spot':['Xanthomonas campestris pv. vesicatoria','Management'],\n",
    "         'Potato___Early_blight':['Alternaria solani','Cultural control'],\n",
    "         'Potato___Late_blight':['Phytophthora infestans''Disease management'],\n",
    "         'Squash___Powdery_mildew':['Powdery mildew','Conventional chemical control'],\n",
    "         'Strawberry___Leaf_scorch':['Diplocarpon earlianum','Mmanagement'],\n",
    "         'Tomato___Bacterial_spot':['Xanthomonas campestris pv. vesicatoria','Management'],\n",
    "         'Tomato___Early_blight':['Alternaria solani', 'Cultural control'],\n",
    "         'Tomato___Late_blight':['Phytophthora infestans','Disease management'],\n",
    "         'Tomato___Leaf_Mold':['Tomato leaf mold','Management'],\n",
    "         'Tomato___Septoria_leaf_spot':['Septoria lycopersici', 'Management'],\n",
    "         'Tomato___Spider_mites Two-spotted_spider_mite':['Spider mite','Neem oil'],\n",
    "         'Tomato___Target_Spot':['Corynespora cassiicola','Management'],\n",
    "         'Tomato___Tomato_Yellow_Leaf_Curl_Virus':['Tomato yellow leaf curl virus', 'Management'],\n",
    "         'Tomato___Tomato_mosaic_virus':['Tobacco mosaic virus','Treatment and management']}\n",
    "         "
   ]
  },
  {
   "cell_type": "code",
   "execution_count": 150,
   "metadata": {},
   "outputs": [],
   "source": [
    "#scrape recommendations\n",
    "for i in section.keys():\n",
    "    try:\n",
    "        blob = wikipedia.page(section[i][0]).section(section[i][1]).replace('\\n', '').replace(\"\\'\",\"\")\n",
    "        section[i]=blob\n",
    "    except:\n",
    "        blob = wikipedia.page(section[i][0]).summary\n",
    "        section[i] = blob"
   ]
  },
  {
   "cell_type": "code",
   "execution_count": 119,
   "metadata": {},
   "outputs": [],
   "source": [
    "#scrape summaries\n",
    "blob_list = {}\n",
    "for name in names:\n",
    "    blob = wikipedia.page(name).summary.replace('\\n', '').replace(\"\\'\",\"\")\n",
    "    for link in links.keys():\n",
    "        if links[link] == name:\n",
    "            blob_list[link] = blob"
   ]
  },
  {
   "cell_type": "code",
   "execution_count": 157,
   "metadata": {},
   "outputs": [],
   "source": [
    "#create dataframe and save it into a CSV file\n",
    "df2 = pd.Series(section, name='Recommendation')\n",
    "df2.index.name = 'Label'\n",
    "df2.reset_index()\n",
    "df2.to_csv('recommendations.csv')"
   ]
  }
 ],
 "metadata": {
  "kernelspec": {
   "display_name": "Python 3",
   "language": "python",
   "name": "python3"
  },
  "language_info": {
   "codemirror_mode": {
    "name": "ipython",
    "version": 3
   },
   "file_extension": ".py",
   "mimetype": "text/x-python",
   "name": "python",
   "nbconvert_exporter": "python",
   "pygments_lexer": "ipython3",
   "version": "3.8.3"
  }
 },
 "nbformat": 4,
 "nbformat_minor": 4
}
